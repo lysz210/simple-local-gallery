{
 "cells": [
  {
   "metadata": {},
   "cell_type": "markdown",
   "source": "Testing tkinter filedialog to get a file",
   "id": "3b2503b2ab3677f3"
  },
  {
   "cell_type": "code",
   "id": "initial_id",
   "metadata": {
    "collapsed": true,
    "jupyter": {
     "is_executing": true
    }
   },
   "source": [
    "from tkinter.filedialog import askopenfilename\n",
    "\n",
    "name = askopenfilename(filetypes=[(\"SQLite\", \"*.db\")])\n",
    "print(name)"
   ],
   "outputs": [],
   "execution_count": null
  },
  {
   "metadata": {},
   "cell_type": "markdown",
   "source": "init a db with schema",
   "id": "3e9be3adf60e59ec"
  },
  {
   "metadata": {
    "ExecuteTime": {
     "end_time": "2025-03-29T19:28:10.612098Z",
     "start_time": "2025-03-29T19:28:10.535830Z"
    }
   },
   "cell_type": "code",
   "source": [
    "from sqlalchemy import create_engine\n",
    "engine = create_engine('sqlite://', echo=True)\n",
    "type(engine)"
   ],
   "id": "7f4c1e5e9edd063f",
   "outputs": [
    {
     "data": {
      "text/plain": [
       "sqlalchemy.engine.base.Engine"
      ]
     },
     "execution_count": 2,
     "metadata": {},
     "output_type": "execute_result"
    }
   ],
   "execution_count": 2
  },
  {
   "metadata": {
    "ExecuteTime": {
     "end_time": "2025-03-29T19:28:27.535698Z",
     "start_time": "2025-03-29T19:28:27.498488Z"
    }
   },
   "cell_type": "code",
   "source": [
    "from app import models\n",
    "\n",
    "models.Base.metadata.create_all(engine)"
   ],
   "id": "3179876be194f27",
   "outputs": [
    {
     "name": "stdout",
     "output_type": "stream",
     "text": [
      "2025-03-29 20:28:27,522 INFO sqlalchemy.engine.Engine BEGIN (implicit)\n",
      "2025-03-29 20:28:27,523 INFO sqlalchemy.engine.Engine PRAGMA main.table_info(\"photos\")\n",
      "2025-03-29 20:28:27,525 INFO sqlalchemy.engine.Engine [raw sql] ()\n",
      "2025-03-29 20:28:27,528 INFO sqlalchemy.engine.Engine PRAGMA main.table_info(\"points\")\n",
      "2025-03-29 20:28:27,530 INFO sqlalchemy.engine.Engine [raw sql] ()\n",
      "2025-03-29 20:28:27,532 INFO sqlalchemy.engine.Engine COMMIT\n"
     ]
    }
   ],
   "execution_count": 4
  },
  {
   "metadata": {
    "ExecuteTime": {
     "end_time": "2025-03-29T19:29:30.083454Z",
     "start_time": "2025-03-29T19:29:30.009094Z"
    }
   },
   "cell_type": "code",
   "source": [
    "from sqlalchemy.orm import Session\n",
    "from datetime import datetime\n",
    "with Session(engine) as session:\n",
    "    point = models.GpsPoint(\n",
    "        longitude=3.5,\n",
    "        latitude=51.5,\n",
    "        timestamp=datetime.now(),\n",
    "    )\n",
    "    session.add(point)\n",
    "    session.commit()"
   ],
   "id": "e1ce64e0096f65ff",
   "outputs": [
    {
     "name": "stdout",
     "output_type": "stream",
     "text": [
      "2025-03-29 20:29:30,018 INFO sqlalchemy.engine.Engine BEGIN (implicit)\n",
      "2025-03-29 20:29:30,022 INFO sqlalchemy.engine.Engine INSERT INTO points (latitude, longitude, elevation, timestamp) VALUES (?, ?, ?, ?)\n",
      "2025-03-29 20:29:30,024 INFO sqlalchemy.engine.Engine [cached since 58.38s ago] (51.5, 3.5, None, '2025-03-29 20:29:30.017089')\n",
      "2025-03-29 20:29:30,026 INFO sqlalchemy.engine.Engine COMMIT\n"
     ]
    }
   ],
   "execution_count": 6
  },
  {
   "metadata": {
    "ExecuteTime": {
     "end_time": "2025-03-29T18:57:01.030557Z",
     "start_time": "2025-03-29T18:57:00.189158Z"
    }
   },
   "cell_type": "code",
   "source": "",
   "id": "e7d01b8c455d7299",
   "outputs": [
    {
     "ename": "DetachedInstanceError",
     "evalue": "Instance <GpsPoint at 0x72e286138620> is not bound to a Session; attribute refresh operation cannot proceed (Background on this error at: https://sqlalche.me/e/20/bhk3)",
     "output_type": "error",
     "traceback": [
      "\u001B[31m---------------------------------------------------------------------------\u001B[39m",
      "\u001B[31mDetachedInstanceError\u001B[39m                     Traceback (most recent call last)",
      "\u001B[36mCell\u001B[39m\u001B[36m \u001B[39m\u001B[32mIn[5]\u001B[39m\u001B[32m, line 1\u001B[39m\n\u001B[32m----> \u001B[39m\u001B[32m1\u001B[39m \u001B[43mpoint\u001B[49m\u001B[43m.\u001B[49m\u001B[43mtimestamp\u001B[49m\n",
      "\u001B[36mFile \u001B[39m\u001B[32m~/PycharmProjects/simple-local-gallery/.venv/lib/python3.12/site-packages/sqlalchemy/orm/attributes.py:566\u001B[39m, in \u001B[36mInstrumentedAttribute.__get__\u001B[39m\u001B[34m(self, instance, owner)\u001B[39m\n\u001B[32m    564\u001B[39m \u001B[38;5;28;01mexcept\u001B[39;00m \u001B[38;5;167;01mAttributeError\u001B[39;00m \u001B[38;5;28;01mas\u001B[39;00m err:\n\u001B[32m    565\u001B[39m     \u001B[38;5;28;01mraise\u001B[39;00m orm_exc.UnmappedInstanceError(instance) \u001B[38;5;28;01mfrom\u001B[39;00m\u001B[38;5;250m \u001B[39m\u001B[34;01merr\u001B[39;00m\n\u001B[32m--> \u001B[39m\u001B[32m566\u001B[39m \u001B[38;5;28;01mreturn\u001B[39;00m \u001B[38;5;28;43mself\u001B[39;49m\u001B[43m.\u001B[49m\u001B[43mimpl\u001B[49m\u001B[43m.\u001B[49m\u001B[43mget\u001B[49m\u001B[43m(\u001B[49m\u001B[43mstate\u001B[49m\u001B[43m,\u001B[49m\u001B[43m \u001B[49m\u001B[43mdict_\u001B[49m\u001B[43m)\u001B[49m\n",
      "\u001B[36mFile \u001B[39m\u001B[32m~/PycharmProjects/simple-local-gallery/.venv/lib/python3.12/site-packages/sqlalchemy/orm/attributes.py:1086\u001B[39m, in \u001B[36mAttributeImpl.get\u001B[39m\u001B[34m(self, state, dict_, passive)\u001B[39m\n\u001B[32m   1083\u001B[39m \u001B[38;5;28;01mif\u001B[39;00m \u001B[38;5;129;01mnot\u001B[39;00m passive & CALLABLES_OK:\n\u001B[32m   1084\u001B[39m     \u001B[38;5;28;01mreturn\u001B[39;00m PASSIVE_NO_RESULT\n\u001B[32m-> \u001B[39m\u001B[32m1086\u001B[39m value = \u001B[38;5;28;43mself\u001B[39;49m\u001B[43m.\u001B[49m\u001B[43m_fire_loader_callables\u001B[49m\u001B[43m(\u001B[49m\u001B[43mstate\u001B[49m\u001B[43m,\u001B[49m\u001B[43m \u001B[49m\u001B[43mkey\u001B[49m\u001B[43m,\u001B[49m\u001B[43m \u001B[49m\u001B[43mpassive\u001B[49m\u001B[43m)\u001B[49m\n\u001B[32m   1088\u001B[39m \u001B[38;5;28;01mif\u001B[39;00m value \u001B[38;5;129;01mis\u001B[39;00m PASSIVE_NO_RESULT \u001B[38;5;129;01mor\u001B[39;00m value \u001B[38;5;129;01mis\u001B[39;00m NO_VALUE:\n\u001B[32m   1089\u001B[39m     \u001B[38;5;28;01mreturn\u001B[39;00m value\n",
      "\u001B[36mFile \u001B[39m\u001B[32m~/PycharmProjects/simple-local-gallery/.venv/lib/python3.12/site-packages/sqlalchemy/orm/attributes.py:1116\u001B[39m, in \u001B[36mAttributeImpl._fire_loader_callables\u001B[39m\u001B[34m(self, state, key, passive)\u001B[39m\n\u001B[32m   1108\u001B[39m \u001B[38;5;28;01mdef\u001B[39;00m\u001B[38;5;250m \u001B[39m\u001B[34m_fire_loader_callables\u001B[39m(\n\u001B[32m   1109\u001B[39m     \u001B[38;5;28mself\u001B[39m, state: InstanceState[Any], key: \u001B[38;5;28mstr\u001B[39m, passive: PassiveFlag\n\u001B[32m   1110\u001B[39m ) -> Any:\n\u001B[32m   1111\u001B[39m     \u001B[38;5;28;01mif\u001B[39;00m (\n\u001B[32m   1112\u001B[39m         \u001B[38;5;28mself\u001B[39m.accepts_scalar_loader\n\u001B[32m   1113\u001B[39m         \u001B[38;5;129;01mand\u001B[39;00m \u001B[38;5;28mself\u001B[39m.load_on_unexpire\n\u001B[32m   1114\u001B[39m         \u001B[38;5;129;01mand\u001B[39;00m key \u001B[38;5;129;01min\u001B[39;00m state.expired_attributes\n\u001B[32m   1115\u001B[39m     ):\n\u001B[32m-> \u001B[39m\u001B[32m1116\u001B[39m         \u001B[38;5;28;01mreturn\u001B[39;00m \u001B[43mstate\u001B[49m\u001B[43m.\u001B[49m\u001B[43m_load_expired\u001B[49m\u001B[43m(\u001B[49m\u001B[43mstate\u001B[49m\u001B[43m,\u001B[49m\u001B[43m \u001B[49m\u001B[43mpassive\u001B[49m\u001B[43m)\u001B[49m\n\u001B[32m   1117\u001B[39m     \u001B[38;5;28;01melif\u001B[39;00m key \u001B[38;5;129;01min\u001B[39;00m state.callables:\n\u001B[32m   1118\u001B[39m         callable_ = state.callables[key]\n",
      "\u001B[36mFile \u001B[39m\u001B[32m~/PycharmProjects/simple-local-gallery/.venv/lib/python3.12/site-packages/sqlalchemy/orm/state.py:803\u001B[39m, in \u001B[36mInstanceState._load_expired\u001B[39m\u001B[34m(self, state, passive)\u001B[39m\n\u001B[32m    796\u001B[39m toload = \u001B[38;5;28mself\u001B[39m.expired_attributes.intersection(\u001B[38;5;28mself\u001B[39m.unmodified)\n\u001B[32m    797\u001B[39m toload = toload.difference(\n\u001B[32m    798\u001B[39m     attr\n\u001B[32m    799\u001B[39m     \u001B[38;5;28;01mfor\u001B[39;00m attr \u001B[38;5;129;01min\u001B[39;00m toload\n\u001B[32m    800\u001B[39m     \u001B[38;5;28;01mif\u001B[39;00m \u001B[38;5;129;01mnot\u001B[39;00m \u001B[38;5;28mself\u001B[39m.manager[attr].impl.load_on_unexpire\n\u001B[32m    801\u001B[39m )\n\u001B[32m--> \u001B[39m\u001B[32m803\u001B[39m \u001B[38;5;28;43mself\u001B[39;49m\u001B[43m.\u001B[49m\u001B[43mmanager\u001B[49m\u001B[43m.\u001B[49m\u001B[43mexpired_attribute_loader\u001B[49m\u001B[43m(\u001B[49m\u001B[38;5;28;43mself\u001B[39;49m\u001B[43m,\u001B[49m\u001B[43m \u001B[49m\u001B[43mtoload\u001B[49m\u001B[43m,\u001B[49m\u001B[43m \u001B[49m\u001B[43mpassive\u001B[49m\u001B[43m)\u001B[49m\n\u001B[32m    805\u001B[39m \u001B[38;5;66;03m# if the loader failed, or this\u001B[39;00m\n\u001B[32m    806\u001B[39m \u001B[38;5;66;03m# instance state didn't have an identity,\u001B[39;00m\n\u001B[32m    807\u001B[39m \u001B[38;5;66;03m# the attributes still might be in the callables\u001B[39;00m\n\u001B[32m    808\u001B[39m \u001B[38;5;66;03m# dict.  ensure they are removed.\u001B[39;00m\n\u001B[32m    809\u001B[39m \u001B[38;5;28mself\u001B[39m.expired_attributes.clear()\n",
      "\u001B[36mFile \u001B[39m\u001B[32m~/PycharmProjects/simple-local-gallery/.venv/lib/python3.12/site-packages/sqlalchemy/orm/loading.py:1603\u001B[39m, in \u001B[36mload_scalar_attributes\u001B[39m\u001B[34m(mapper, state, attribute_names, passive)\u001B[39m\n\u001B[32m   1601\u001B[39m session = state.session\n\u001B[32m   1602\u001B[39m \u001B[38;5;28;01mif\u001B[39;00m \u001B[38;5;129;01mnot\u001B[39;00m session:\n\u001B[32m-> \u001B[39m\u001B[32m1603\u001B[39m     \u001B[38;5;28;01mraise\u001B[39;00m orm_exc.DetachedInstanceError(\n\u001B[32m   1604\u001B[39m         \u001B[33m\"\u001B[39m\u001B[33mInstance \u001B[39m\u001B[38;5;132;01m%s\u001B[39;00m\u001B[33m is not bound to a Session; \u001B[39m\u001B[33m\"\u001B[39m\n\u001B[32m   1605\u001B[39m         \u001B[33m\"\u001B[39m\u001B[33mattribute refresh operation cannot proceed\u001B[39m\u001B[33m\"\u001B[39m % (state_str(state))\n\u001B[32m   1606\u001B[39m     )\n\u001B[32m   1608\u001B[39m no_autoflush = \u001B[38;5;28mbool\u001B[39m(passive & attributes.NO_AUTOFLUSH)\n\u001B[32m   1610\u001B[39m \u001B[38;5;66;03m# in the case of inheritance, particularly concrete and abstract\u001B[39;00m\n\u001B[32m   1611\u001B[39m \u001B[38;5;66;03m# concrete inheritance, the class manager might have some keys\u001B[39;00m\n\u001B[32m   1612\u001B[39m \u001B[38;5;66;03m# of attributes on the superclass that we didn't actually map.\u001B[39;00m\n\u001B[32m   1613\u001B[39m \u001B[38;5;66;03m# These could be mapped as \"concrete, don't load\" or could be completely\u001B[39;00m\n\u001B[32m   1614\u001B[39m \u001B[38;5;66;03m# excluded from the mapping and we know nothing about them.  Filter them\u001B[39;00m\n\u001B[32m   1615\u001B[39m \u001B[38;5;66;03m# here to prevent them from coming through.\u001B[39;00m\n",
      "\u001B[31mDetachedInstanceError\u001B[39m: Instance <GpsPoint at 0x72e286138620> is not bound to a Session; attribute refresh operation cannot proceed (Background on this error at: https://sqlalche.me/e/20/bhk3)"
     ]
    }
   ],
   "execution_count": 5
  }
 ],
 "metadata": {
  "kernelspec": {
   "display_name": "Python 3",
   "language": "python",
   "name": "python3"
  },
  "language_info": {
   "codemirror_mode": {
    "name": "ipython",
    "version": 2
   },
   "file_extension": ".py",
   "mimetype": "text/x-python",
   "name": "python",
   "nbconvert_exporter": "python",
   "pygments_lexer": "ipython2",
   "version": "2.7.6"
  }
 },
 "nbformat": 4,
 "nbformat_minor": 5
}
