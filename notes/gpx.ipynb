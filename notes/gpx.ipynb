{
 "cells": [
  {
   "cell_type": "code",
   "execution_count": 19,
   "id": "cda696b9",
   "metadata": {},
   "outputs": [
    {
     "data": {
      "text/plain": [
       "GPX(tracks=[GPXTrack(name='Torbole sul Garda', description='Torbole sul Garda', segments=[GPXTrackSegment(points=[...])])])"
      ]
     },
     "execution_count": 19,
     "metadata": {},
     "output_type": "execute_result"
    }
   ],
   "source": [
    "from pathlib import Path\n",
    "import gpxpy as gpx\n",
    "\n",
    "root = Path('.').absolute()\n",
    "\n",
    "try:\n",
    "    with open('/home/lysz210/PycharmProjects/simple-local-gallery/upload/torbole-sul-garda.gpx', 'r') as gpx_file:\n",
    "        doc = gpx.parse(gpx_file)\n",
    "except Exception as e:\n",
    "    print(f\"Error parsing gpx file: {e}\")\n",
    "    doc = None\n",
    "\n",
    "doc"
   ]
  },
  {
   "cell_type": "code",
   "execution_count": 27,
   "id": "f7fd6fc5",
   "metadata": {},
   "outputs": [
    {
     "name": "stdout",
     "output_type": "stream",
     "text": [
      "Wikiloc - Torbole sul Garda\n",
      "https://www.wikiloc.com/motorboat-trails/torbole-sul-garda-227067493\n"
     ]
    }
   ],
   "source": [
    "print(doc.name)\n",
    "print(doc.link)"
   ]
  }
 ],
 "metadata": {
  "kernelspec": {
   "display_name": "simple-local-gallery-py3.12",
   "language": "python",
   "name": "python3"
  },
  "language_info": {
   "codemirror_mode": {
    "name": "ipython",
    "version": 3
   },
   "file_extension": ".py",
   "mimetype": "text/x-python",
   "name": "python",
   "nbconvert_exporter": "python",
   "pygments_lexer": "ipython3",
   "version": "3.12.3"
  }
 },
 "nbformat": 4,
 "nbformat_minor": 5
}
