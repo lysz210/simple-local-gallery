{
 "cells": [
  {
   "cell_type": "code",
   "execution_count": 16,
   "id": "acdc44a3",
   "metadata": {},
   "outputs": [],
   "source": [
    "from typing import Optional\n",
    "from pydantic import BaseModel, ConfigDict\n",
    "\n",
    "class Point(BaseModel):\n",
    "    model_config = ConfigDict(strict=True, frozen=True)\n",
    "\n",
    "    id: int\n",
    "    description: str\n",
    "    gps_point_id: Optional[int] = None"
   ]
  },
  {
   "cell_type": "code",
   "execution_count": 14,
   "id": "e2920e9a",
   "metadata": {},
   "outputs": [],
   "source": [
    "point_unset = \"\"\"{\n",
    "    \"id\": 1,\n",
    "    \"description\": \"point unset\"\n",
    "}\"\"\"\n",
    "\n",
    "point_none = \"\"\"{\n",
    "    \"id\": 2,\n",
    "    \"description\": \"with point\",\n",
    "    \"gps_point_id\": null\n",
    "}\"\"\"\n",
    "\n",
    "point_set = \"\"\"{\n",
    "    \"id\": 2,\n",
    "    \"description\": \"with point\",\n",
    "    \"gps_point_id\": 1\n",
    "}\"\"\""
   ]
  },
  {
   "cell_type": "code",
   "execution_count": 17,
   "id": "34628c8f",
   "metadata": {},
   "outputs": [
    {
     "data": {
      "text/plain": [
       "{'id': 1, 'description': 'point unset'}"
      ]
     },
     "execution_count": 17,
     "metadata": {},
     "output_type": "execute_result"
    }
   ],
   "source": [
    "p1 = Point.model_validate_json(point_unset)\n",
    "\n",
    "p1.model_dump(exclude_unset=True)"
   ]
  },
  {
   "cell_type": "code",
   "execution_count": 18,
   "id": "2196270a",
   "metadata": {},
   "outputs": [
    {
     "data": {
      "text/plain": [
       "{'id': 2, 'description': 'with point', 'gps_point_id': None}"
      ]
     },
     "execution_count": 18,
     "metadata": {},
     "output_type": "execute_result"
    }
   ],
   "source": [
    "p2 = Point.model_validate_json(point_none)\n",
    "p2.model_dump(exclude_unset=True)"
   ]
  },
  {
   "cell_type": "code",
   "execution_count": 19,
   "id": "10222e95",
   "metadata": {},
   "outputs": [
    {
     "data": {
      "text/plain": [
       "{'id': 2, 'description': 'with point', 'gps_point_id': 1}"
      ]
     },
     "execution_count": 19,
     "metadata": {},
     "output_type": "execute_result"
    }
   ],
   "source": [
    "p3 = Point.model_validate_json(point_set)\n",
    "p3.model_dump(exclude_unset=True)"
   ]
  },
  {
   "cell_type": "code",
   "execution_count": 20,
   "id": "571c4ad5",
   "metadata": {},
   "outputs": [
    {
     "ename": "ValidationError",
     "evalue": "1 validation error for Point\ngps_point_id\n  Instance is frozen [type=frozen_instance, input_value=None, input_type=NoneType]\n    For further information visit https://errors.pydantic.dev/2.11/v/frozen_instance",
     "output_type": "error",
     "traceback": [
      "\u001b[31m---------------------------------------------------------------------------\u001b[39m",
      "\u001b[31mValidationError\u001b[39m                           Traceback (most recent call last)",
      "\u001b[36mCell\u001b[39m\u001b[36m \u001b[39m\u001b[32mIn[20]\u001b[39m\u001b[32m, line 1\u001b[39m\n\u001b[32m----> \u001b[39m\u001b[32m1\u001b[39m \u001b[43mp1\u001b[49m\u001b[43m.\u001b[49m\u001b[43mgps_point_id\u001b[49m = \u001b[38;5;28;01mNone\u001b[39;00m\n",
      "\u001b[36mFile \u001b[39m\u001b[32m~/PycharmProjects/simple-local-gallery/.venv/lib/python3.12/site-packages/pydantic/main.py:997\u001b[39m, in \u001b[36mBaseModel.__setattr__\u001b[39m\u001b[34m(self, name, value)\u001b[39m\n\u001b[32m    995\u001b[39m     setattr_handler(\u001b[38;5;28mself\u001b[39m, name, value)\n\u001b[32m    996\u001b[39m \u001b[38;5;66;03m# if None is returned from _setattr_handler, the attribute was set directly\u001b[39;00m\n\u001b[32m--> \u001b[39m\u001b[32m997\u001b[39m \u001b[38;5;28;01melif\u001b[39;00m (setattr_handler := \u001b[38;5;28;43mself\u001b[39;49m\u001b[43m.\u001b[49m\u001b[43m_setattr_handler\u001b[49m\u001b[43m(\u001b[49m\u001b[43mname\u001b[49m\u001b[43m,\u001b[49m\u001b[43m \u001b[49m\u001b[43mvalue\u001b[49m\u001b[43m)\u001b[49m) \u001b[38;5;129;01mis\u001b[39;00m \u001b[38;5;129;01mnot\u001b[39;00m \u001b[38;5;28;01mNone\u001b[39;00m:\n\u001b[32m    998\u001b[39m     setattr_handler(\u001b[38;5;28mself\u001b[39m, name, value)  \u001b[38;5;66;03m# call here to not memo on possibly unknown fields\u001b[39;00m\n\u001b[32m    999\u001b[39m     \u001b[38;5;28mself\u001b[39m.__pydantic_setattr_handlers__[name] = setattr_handler\n",
      "\u001b[36mFile \u001b[39m\u001b[32m~/PycharmProjects/simple-local-gallery/.venv/lib/python3.12/site-packages/pydantic/main.py:1033\u001b[39m, in \u001b[36mBaseModel._setattr_handler\u001b[39m\u001b[34m(self, name, value)\u001b[39m\n\u001b[32m   1030\u001b[39m \u001b[38;5;28;01mif\u001b[39;00m \u001b[38;5;28misinstance\u001b[39m(attr, cached_property):\n\u001b[32m   1031\u001b[39m     \u001b[38;5;28;01mreturn\u001b[39;00m _SIMPLE_SETATTR_HANDLERS[\u001b[33m'\u001b[39m\u001b[33mcached_property\u001b[39m\u001b[33m'\u001b[39m]\n\u001b[32m-> \u001b[39m\u001b[32m1033\u001b[39m \u001b[43m_check_frozen\u001b[49m\u001b[43m(\u001b[49m\u001b[38;5;28;43mcls\u001b[39;49m\u001b[43m,\u001b[49m\u001b[43m \u001b[49m\u001b[43mname\u001b[49m\u001b[43m,\u001b[49m\u001b[43m \u001b[49m\u001b[43mvalue\u001b[49m\u001b[43m)\u001b[49m\n\u001b[32m   1035\u001b[39m \u001b[38;5;66;03m# We allow properties to be set only on non frozen models for now (to match dataclasses).\u001b[39;00m\n\u001b[32m   1036\u001b[39m \u001b[38;5;66;03m# This can be changed if it ever gets requested.\u001b[39;00m\n\u001b[32m   1037\u001b[39m \u001b[38;5;28;01mif\u001b[39;00m \u001b[38;5;28misinstance\u001b[39m(attr, \u001b[38;5;28mproperty\u001b[39m):\n",
      "\u001b[36mFile \u001b[39m\u001b[32m~/PycharmProjects/simple-local-gallery/.venv/lib/python3.12/site-packages/pydantic/main.py:92\u001b[39m, in \u001b[36m_check_frozen\u001b[39m\u001b[34m(model_cls, name, value)\u001b[39m\n\u001b[32m     89\u001b[39m \u001b[38;5;28;01melse\u001b[39;00m:\n\u001b[32m     90\u001b[39m     \u001b[38;5;28;01mreturn\u001b[39;00m\n\u001b[32m---> \u001b[39m\u001b[32m92\u001b[39m \u001b[38;5;28;01mraise\u001b[39;00m ValidationError.from_exception_data(\n\u001b[32m     93\u001b[39m     model_cls.\u001b[34m__name__\u001b[39m, [{\u001b[33m'\u001b[39m\u001b[33mtype\u001b[39m\u001b[33m'\u001b[39m: error_type, \u001b[33m'\u001b[39m\u001b[33mloc\u001b[39m\u001b[33m'\u001b[39m: (name,), \u001b[33m'\u001b[39m\u001b[33minput\u001b[39m\u001b[33m'\u001b[39m: value}]\n\u001b[32m     94\u001b[39m )\n",
      "\u001b[31mValidationError\u001b[39m: 1 validation error for Point\ngps_point_id\n  Instance is frozen [type=frozen_instance, input_value=None, input_type=NoneType]\n    For further information visit https://errors.pydantic.dev/2.11/v/frozen_instance"
     ]
    }
   ],
   "source": [
    "p1.gps_point_id = None"
   ]
  }
 ],
 "metadata": {
  "kernelspec": {
   "display_name": "simple-local-gallery-py3.12",
   "language": "python",
   "name": "python3"
  },
  "language_info": {
   "codemirror_mode": {
    "name": "ipython",
    "version": 3
   },
   "file_extension": ".py",
   "mimetype": "text/x-python",
   "name": "python",
   "nbconvert_exporter": "python",
   "pygments_lexer": "ipython3",
   "version": "3.12.3"
  }
 },
 "nbformat": 4,
 "nbformat_minor": 5
}
