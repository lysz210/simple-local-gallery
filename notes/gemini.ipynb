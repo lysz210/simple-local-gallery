{
 "cells": [
  {
   "cell_type": "code",
   "execution_count": 1,
   "id": "cca97974",
   "metadata": {},
   "outputs": [
    {
     "name": "stdout",
     "output_type": "stream",
     "text": [
      "2025-09-21 10:05:38,373 INFO sqlalchemy.engine.Engine BEGIN (implicit)\n",
      "2025-09-21 10:05:38,374 INFO sqlalchemy.engine.Engine PRAGMA main.table_info(\"photos\")\n",
      "2025-09-21 10:05:38,377 INFO sqlalchemy.engine.Engine [raw sql] ()\n",
      "2025-09-21 10:05:38,379 INFO sqlalchemy.engine.Engine PRAGMA main.table_info(\"tracks\")\n",
      "2025-09-21 10:05:38,379 INFO sqlalchemy.engine.Engine [raw sql] ()\n",
      "2025-09-21 10:05:38,381 INFO sqlalchemy.engine.Engine PRAGMA main.table_info(\"points\")\n",
      "2025-09-21 10:05:38,382 INFO sqlalchemy.engine.Engine [raw sql] ()\n",
      "2025-09-21 10:05:38,383 INFO sqlalchemy.engine.Engine COMMIT\n"
     ]
    },
    {
     "data": {
      "text/plain": [
       "Settings(API_V1_STR='/api/v1', SECRET_KEY=SecretStr('**********'), ACCESS_TOKEN_EXPIRE_MINUTES=11520, FRONTEND_HOST='http://localhost:3000', ENVIRONMENT='local', BACKEND_CORS_ORIGINS=[], PROJECT_NAME='Simple Local GAllery', FIRST_SUPERUSER='admin@lysz210.it', FIRST_SUPERUSER_PASSWORD=SecretStr('**********'), GALLERY_ROOT=PosixPath('/home/lysz210/PycharmProjects/simple-local-gallery/upload'), GEMINI_API_KEY=SecretStr('**********'), all_cors_origins=['http://localhost:3000'], sqlite_dsn='sqlite:////home/lysz210/PycharmProjects/simple-local-gallery/upload/photos.db', thumbnails_root=PosixPath('/home/lysz210/PycharmProjects/simple-local-gallery/upload/.thumbnails'), gemini=<google.genai.client.Client object at 0x747fc46043b0>)"
      ]
     },
     "execution_count": 1,
     "metadata": {},
     "output_type": "execute_result"
    }
   ],
   "source": [
    "from slg_server.core.config import settings\n",
    "\n",
    "settings"
   ]
  },
  {
   "cell_type": "code",
   "execution_count": 3,
   "id": "f08fcc19",
   "metadata": {},
   "outputs": [
    {
     "data": {
      "text/plain": [
       "PosixPath('/home/lysz210/PycharmProjects/simple-local-gallery/upload/.thumbnails/1024/bici/Z63_6062.JPG')"
      ]
     },
     "execution_count": 3,
     "metadata": {},
     "output_type": "execute_result"
    }
   ],
   "source": [
    "from pathlib import Path\n",
    "from slg_server.services import photos\n",
    "\n",
    "photo = Path('bici/Z63_6062.JPG')\n",
    "\n",
    "thumbnail = photos.ensure_thumbnail(photo)\n",
    "\n",
    "thumbnail"
   ]
  },
  {
   "cell_type": "code",
   "execution_count": 2,
   "id": "a79e4008",
   "metadata": {},
   "outputs": [],
   "source": [
    "from pydantic import BaseModel, Field\n",
    "\n",
    "class ImageInfo(BaseModel):\n",
    "    description: str\n",
    "    tags: list[str] = Field(description='''lowercase and single words where appropriate, or hyphenated for phrases (e.g., lowercase and single words where appropriate, or hyphenated for phrases (e.g., use \"historic-structure\" for \"historic structure\"). Use \"historic-structure\" for \"historic structure\").''')"
   ]
  },
  {
   "cell_type": "code",
   "execution_count": 3,
   "id": "14b9716e",
   "metadata": {},
   "outputs": [
    {
     "ename": "AttributeError",
     "evalue": "'SecretStr' object has no attribute 'strip'",
     "output_type": "error",
     "traceback": [
      "\u001b[31m---------------------------------------------------------------------------\u001b[39m",
      "\u001b[31mAttributeError\u001b[39m                            Traceback (most recent call last)",
      "\u001b[36mCell\u001b[39m\u001b[36m \u001b[39m\u001b[32mIn[3]\u001b[39m\u001b[32m, line 2\u001b[39m\n\u001b[32m      1\u001b[39m \u001b[38;5;28;01mfrom\u001b[39;00m\u001b[38;5;250m \u001b[39m\u001b[34;01mgoogle\u001b[39;00m\u001b[34;01m.\u001b[39;00m\u001b[34;01mgenai\u001b[39;00m\u001b[38;5;250m \u001b[39m\u001b[38;5;28;01mimport\u001b[39;00m types\n\u001b[32m----> \u001b[39m\u001b[32m2\u001b[39m gemini = \u001b[43msettings\u001b[49m\u001b[43m.\u001b[49m\u001b[43mgemini\u001b[49m\n\u001b[32m      4\u001b[39m system_prompt = \u001b[33m\"\"\"\u001b[39m\n\u001b[32m      5\u001b[39m \u001b[33mYou are an expert Flickr photo describer and tagger.\u001b[39m\n\u001b[32m      6\u001b[39m \u001b[33mYour task is to analyze the provided image context and generate:\u001b[39m\n\u001b[32m   (...)\u001b[39m\u001b[32m     18\u001b[39m \u001b[33m}\u001b[39m\n\u001b[32m     19\u001b[39m \u001b[33m\"\"\"\u001b[39m\n\u001b[32m     20\u001b[39m image_types = thumbnail.read_bytes()\n",
      "\u001b[36mFile \u001b[39m\u001b[32m~/PycharmProjects/simple-local-gallery/.venv/lib/python3.12/site-packages/pydantic/main.py:988\u001b[39m, in \u001b[36mBaseModel.__getattr__\u001b[39m\u001b[34m(self, item)\u001b[39m\n\u001b[32m    986\u001b[39m \u001b[38;5;28;01melse\u001b[39;00m:\n\u001b[32m    987\u001b[39m     \u001b[38;5;28;01mif\u001b[39;00m \u001b[38;5;28mhasattr\u001b[39m(\u001b[38;5;28mself\u001b[39m.\u001b[34m__class__\u001b[39m, item):\n\u001b[32m--> \u001b[39m\u001b[32m988\u001b[39m         \u001b[38;5;28;01mreturn\u001b[39;00m \u001b[38;5;28;43msuper\u001b[39;49m\u001b[43m(\u001b[49m\u001b[43m)\u001b[49m\u001b[43m.\u001b[49m\u001b[34;43m__getattribute__\u001b[39;49m\u001b[43m(\u001b[49m\u001b[43mitem\u001b[49m\u001b[43m)\u001b[49m  \u001b[38;5;66;03m# Raises AttributeError if appropriate\u001b[39;00m\n\u001b[32m    989\u001b[39m     \u001b[38;5;28;01melse\u001b[39;00m:\n\u001b[32m    990\u001b[39m         \u001b[38;5;66;03m# this is the current error\u001b[39;00m\n\u001b[32m    991\u001b[39m         \u001b[38;5;28;01mraise\u001b[39;00m \u001b[38;5;167;01mAttributeError\u001b[39;00m(\u001b[33mf\u001b[39m\u001b[33m'\u001b[39m\u001b[38;5;132;01m{\u001b[39;00m\u001b[38;5;28mtype\u001b[39m(\u001b[38;5;28mself\u001b[39m).\u001b[34m__name__\u001b[39m\u001b[38;5;132;01m!r}\u001b[39;00m\u001b[33m object has no attribute \u001b[39m\u001b[38;5;132;01m{\u001b[39;00mitem\u001b[38;5;132;01m!r}\u001b[39;00m\u001b[33m'\u001b[39m)\n",
      "\u001b[36mFile \u001b[39m\u001b[32m~/PycharmProjects/simple-local-gallery/slg_server/core/config.py:122\u001b[39m, in \u001b[36mSettings.gemini\u001b[39m\u001b[34m(self)\u001b[39m\n\u001b[32m    120\u001b[39m \u001b[38;5;28;01mif\u001b[39;00m \u001b[38;5;28mself\u001b[39m.GEMINI_API_KEY.get_secret_value() \u001b[38;5;129;01mis\u001b[39;00m \u001b[38;5;28;01mNone\u001b[39;00m:\n\u001b[32m    121\u001b[39m     \u001b[38;5;28;01mraise\u001b[39;00m \u001b[38;5;167;01mRuntimeError\u001b[39;00m(\u001b[33m\"\u001b[39m\u001b[33mGEMINI_API_KEY is not set in the configuration.\u001b[39m\u001b[33m\"\u001b[39m)\n\u001b[32m--> \u001b[39m\u001b[32m122\u001b[39m \u001b[38;5;28;01mreturn\u001b[39;00m \u001b[43mClient\u001b[49m\u001b[43m(\u001b[49m\n\u001b[32m    123\u001b[39m \u001b[43m    \u001b[49m\u001b[43mapi_key\u001b[49m\u001b[43m=\u001b[49m\u001b[38;5;28;43mself\u001b[39;49m\u001b[43m.\u001b[49m\u001b[43mGEMINI_API_KEY\u001b[49m\u001b[43m,\u001b[49m\n\u001b[32m    124\u001b[39m \u001b[43m\u001b[49m\u001b[43m)\u001b[49m\n",
      "\u001b[36mFile \u001b[39m\u001b[32m~/PycharmProjects/simple-local-gallery/.venv/lib/python3.12/site-packages/google/genai/client.py:219\u001b[39m, in \u001b[36mClient.__init__\u001b[39m\u001b[34m(self, vertexai, api_key, credentials, project, location, debug_config, http_options)\u001b[39m\n\u001b[32m    216\u001b[39m   \u001b[38;5;28;01melse\u001b[39;00m:\n\u001b[32m    217\u001b[39m     http_options = HttpOptions(base_url=base_url)\n\u001b[32m--> \u001b[39m\u001b[32m219\u001b[39m \u001b[38;5;28mself\u001b[39m._api_client = \u001b[38;5;28;43mself\u001b[39;49m\u001b[43m.\u001b[49m\u001b[43m_get_api_client\u001b[49m\u001b[43m(\u001b[49m\n\u001b[32m    220\u001b[39m \u001b[43m    \u001b[49m\u001b[43mvertexai\u001b[49m\u001b[43m=\u001b[49m\u001b[43mvertexai\u001b[49m\u001b[43m,\u001b[49m\n\u001b[32m    221\u001b[39m \u001b[43m    \u001b[49m\u001b[43mapi_key\u001b[49m\u001b[43m=\u001b[49m\u001b[43mapi_key\u001b[49m\u001b[43m,\u001b[49m\n\u001b[32m    222\u001b[39m \u001b[43m    \u001b[49m\u001b[43mcredentials\u001b[49m\u001b[43m=\u001b[49m\u001b[43mcredentials\u001b[49m\u001b[43m,\u001b[49m\n\u001b[32m    223\u001b[39m \u001b[43m    \u001b[49m\u001b[43mproject\u001b[49m\u001b[43m=\u001b[49m\u001b[43mproject\u001b[49m\u001b[43m,\u001b[49m\n\u001b[32m    224\u001b[39m \u001b[43m    \u001b[49m\u001b[43mlocation\u001b[49m\u001b[43m=\u001b[49m\u001b[43mlocation\u001b[49m\u001b[43m,\u001b[49m\n\u001b[32m    225\u001b[39m \u001b[43m    \u001b[49m\u001b[43mdebug_config\u001b[49m\u001b[43m=\u001b[49m\u001b[38;5;28;43mself\u001b[39;49m\u001b[43m.\u001b[49m\u001b[43m_debug_config\u001b[49m\u001b[43m,\u001b[49m\n\u001b[32m    226\u001b[39m \u001b[43m    \u001b[49m\u001b[43mhttp_options\u001b[49m\u001b[43m=\u001b[49m\u001b[43mhttp_options\u001b[49m\u001b[43m,\u001b[49m\n\u001b[32m    227\u001b[39m \u001b[43m\u001b[49m\u001b[43m)\u001b[49m\n\u001b[32m    229\u001b[39m \u001b[38;5;28mself\u001b[39m._aio = AsyncClient(\u001b[38;5;28mself\u001b[39m._api_client)\n\u001b[32m    230\u001b[39m \u001b[38;5;28mself\u001b[39m._models = Models(\u001b[38;5;28mself\u001b[39m._api_client)\n",
      "\u001b[36mFile \u001b[39m\u001b[32m~/PycharmProjects/simple-local-gallery/.venv/lib/python3.12/site-packages/google/genai/client.py:265\u001b[39m, in \u001b[36mClient._get_api_client\u001b[39m\u001b[34m(vertexai, api_key, credentials, project, location, debug_config, http_options)\u001b[39m\n\u001b[32m    248\u001b[39m \u001b[38;5;28;01mif\u001b[39;00m debug_config \u001b[38;5;129;01mand\u001b[39;00m debug_config.client_mode \u001b[38;5;129;01min\u001b[39;00m [\n\u001b[32m    249\u001b[39m     \u001b[33m'\u001b[39m\u001b[33mrecord\u001b[39m\u001b[33m'\u001b[39m,\n\u001b[32m    250\u001b[39m     \u001b[33m'\u001b[39m\u001b[33mreplay\u001b[39m\u001b[33m'\u001b[39m,\n\u001b[32m    251\u001b[39m     \u001b[33m'\u001b[39m\u001b[33mauto\u001b[39m\u001b[33m'\u001b[39m,\n\u001b[32m    252\u001b[39m ]:\n\u001b[32m    253\u001b[39m   \u001b[38;5;28;01mreturn\u001b[39;00m ReplayApiClient(\n\u001b[32m    254\u001b[39m       mode=debug_config.client_mode,  \u001b[38;5;66;03m# type: ignore[arg-type]\u001b[39;00m\n\u001b[32m    255\u001b[39m       replay_id=debug_config.replay_id,  \u001b[38;5;66;03m# type: ignore[arg-type]\u001b[39;00m\n\u001b[32m   (...)\u001b[39m\u001b[32m    262\u001b[39m       http_options=http_options,\n\u001b[32m    263\u001b[39m   )\n\u001b[32m--> \u001b[39m\u001b[32m265\u001b[39m \u001b[38;5;28;01mreturn\u001b[39;00m \u001b[43mBaseApiClient\u001b[49m\u001b[43m(\u001b[49m\n\u001b[32m    266\u001b[39m \u001b[43m    \u001b[49m\u001b[43mvertexai\u001b[49m\u001b[43m=\u001b[49m\u001b[43mvertexai\u001b[49m\u001b[43m,\u001b[49m\n\u001b[32m    267\u001b[39m \u001b[43m    \u001b[49m\u001b[43mapi_key\u001b[49m\u001b[43m=\u001b[49m\u001b[43mapi_key\u001b[49m\u001b[43m,\u001b[49m\n\u001b[32m    268\u001b[39m \u001b[43m    \u001b[49m\u001b[43mcredentials\u001b[49m\u001b[43m=\u001b[49m\u001b[43mcredentials\u001b[49m\u001b[43m,\u001b[49m\n\u001b[32m    269\u001b[39m \u001b[43m    \u001b[49m\u001b[43mproject\u001b[49m\u001b[43m=\u001b[49m\u001b[43mproject\u001b[49m\u001b[43m,\u001b[49m\n\u001b[32m    270\u001b[39m \u001b[43m    \u001b[49m\u001b[43mlocation\u001b[49m\u001b[43m=\u001b[49m\u001b[43mlocation\u001b[49m\u001b[43m,\u001b[49m\n\u001b[32m    271\u001b[39m \u001b[43m    \u001b[49m\u001b[43mhttp_options\u001b[49m\u001b[43m=\u001b[49m\u001b[43mhttp_options\u001b[49m\u001b[43m,\u001b[49m\n\u001b[32m    272\u001b[39m \u001b[43m\u001b[49m\u001b[43m)\u001b[49m\n",
      "\u001b[36mFile \u001b[39m\u001b[32m~/PycharmProjects/simple-local-gallery/.venv/lib/python3.12/site-packages/google/genai/_api_client.py:669\u001b[39m, in \u001b[36mBaseApiClient.__init__\u001b[39m\u001b[34m(self, vertexai, api_key, credentials, project, location, http_options)\u001b[39m\n\u001b[32m    667\u001b[39m \u001b[38;5;28mself\u001b[39m._http_options.headers = {\u001b[33m'\u001b[39m\u001b[33mContent-Type\u001b[39m\u001b[33m'\u001b[39m: \u001b[33m'\u001b[39m\u001b[33mapplication/json\u001b[39m\u001b[33m'\u001b[39m}\n\u001b[32m    668\u001b[39m \u001b[38;5;28;01mif\u001b[39;00m \u001b[38;5;28mself\u001b[39m.api_key:\n\u001b[32m--> \u001b[39m\u001b[32m669\u001b[39m   \u001b[38;5;28mself\u001b[39m.api_key = \u001b[38;5;28;43mself\u001b[39;49m\u001b[43m.\u001b[49m\u001b[43mapi_key\u001b[49m\u001b[43m.\u001b[49m\u001b[43mstrip\u001b[49m()\n\u001b[32m    670\u001b[39m   \u001b[38;5;28;01mif\u001b[39;00m \u001b[38;5;28mself\u001b[39m._http_options.headers \u001b[38;5;129;01mis\u001b[39;00m \u001b[38;5;129;01mnot\u001b[39;00m \u001b[38;5;28;01mNone\u001b[39;00m:\n\u001b[32m    671\u001b[39m     \u001b[38;5;28mself\u001b[39m._http_options.headers[\u001b[33m'\u001b[39m\u001b[33mx-goog-api-key\u001b[39m\u001b[33m'\u001b[39m] = \u001b[38;5;28mself\u001b[39m.api_key\n",
      "\u001b[31mAttributeError\u001b[39m: 'SecretStr' object has no attribute 'strip'"
     ]
    }
   ],
   "source": [
    "from google.genai import types\n",
    "gemini = settings.gemini\n",
    "\n",
    "system_prompt = \"\"\"\n",
    "You are an expert Flickr photo describer and tagger.\n",
    "Your task is to analyze the provided image context and generate:\n",
    "1. A compelling, concise, and engaging description suitable for a Flickr photo,\n",
    "    highlighting key elements, mood, and any interesting details.\n",
    "2. A list of 5-15 highly relevant and popular tags that accurately categorize the image.\n",
    "    Tags should be lowercase and single words where appropriate, or hyphenated for phrases (e.g., use \"historic-structure\" for \"historic structure\").\n",
    "    Avoid overly generic tags unless they are truly central (e.g., \"photo\" is usually too generic).\n",
    "\n",
    "Format your output as a JSON object with two keys: \"description\" and \"tags\".\n",
    "Example output:\n",
    "{\n",
    "    \"description\": \"A serene forest path illuminated by dappled sunlight, creating a magical atmosphere as autumn leaves carpet the ground. Perfect for a peaceful stroll.\",\n",
    "    \"tags\": [\"historic-structure\", \"forest\", \"path\", \"sunlight\", \"autumn\", \"leaves\", \"nature\", \"woods\", \"serene\", \"peaceful\", \"landscape\"]\n",
    "}\n",
    "\"\"\"\n",
    "image_types = thumbnail.read_bytes()\n",
    "\n",
    "response = gemini.models.generate_content(\n",
    "    model=\"gemini-2.5-flash\",\n",
    "    contents=[\n",
    "        types.Part.from_bytes(\n",
    "            data=image_types,\n",
    "            mime_type='image/jpeg'\n",
    "        )\n",
    "    ],\n",
    "    config={\n",
    "        'response_mime_type': 'application/json',\n",
    "        'response_schema': ImageInfo\n",
    "    }\n",
    ")\n",
    "\n",
    "response.parsed"
   ]
  }
 ],
 "metadata": {
  "kernelspec": {
   "display_name": "simple-local-gallery-py3.12",
   "language": "python",
   "name": "python3"
  },
  "language_info": {
   "codemirror_mode": {
    "name": "ipython",
    "version": 3
   },
   "file_extension": ".py",
   "mimetype": "text/x-python",
   "name": "python",
   "nbconvert_exporter": "python",
   "pygments_lexer": "ipython3",
   "version": "3.12.3"
  }
 },
 "nbformat": 4,
 "nbformat_minor": 5
}
